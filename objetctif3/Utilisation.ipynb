{
 "cells": [
  {
   "cell_type": "markdown",
   "metadata": {},
   "source": [
    "# Création de la carte UtagawaVTT pour montres Garmin"
   ]
  },
  {
   "cell_type": "markdown",
   "metadata": {},
   "source": [
    "Notre objectif est de proposer ici une brève *description de l'utilisation du code* source ayant servi à la production des cartes disponibles au format GARMIN .img que l'on a déjà réalisées et qui seront partagées sur https://www.utagawavtt.com/.\n",
    "\n",
    "Ces cartes sont transferables sur les appareils compatibles et sont adaptées aux utilisateurs VTTistes.\n",
    "\n",
    "Le code source ainsi disponible permettra à celui qui le souhaite de produire de nouvelles cartes avec une sémiologie et un contenu différents ou d'en actualiser les données. On présente ici les *deux fonctionalités*. \n"

   ]
  },
  {
   "cell_type": "markdown",
   "metadata": {},
   "source": [
    "## Obtenir une carte GARMIN pour le VTT"
   ]
  },
  {
   "attachments": {},
   "cell_type": "markdown",
   "metadata": {},
   "source": [

    "*Une carte d'exemple est fournie dans le dossier PDI1.0 générée à partir de toute la france, une carte de monaco est fournie dans PDI2.0 elle a été construite à partir du fichier texte europe.txt contenu dans le dossier geofabrik et qui est personnalisable."
   ]
  },
  {
   "cell_type": "markdown",
   "metadata": {},
   "source": [
    "## Générer une carte"
   ]
  },
  {
   "cell_type": "markdown",
   "metadata": {},
   "source": [
    "**Vérifiez que vous avez convenablement établi l'environnement de travail détaillé dans *Installation.md*.**\n",
    "\n",
    "**Lancez *main.bat* en double-cliquant dessus.**\n",
    "\n",
    "**Choisissez une méthode de travail (create/update)**\n",
    "\n",
    "La méthode create génère une carte si vous n'en avez pas encore, la méthode update permet de générer une nouvelle carte actualisant les données OSM sans recalculer toute les courbes de niveau et ainsi avec un gros gain de temps.\n",
    "\n",
    "**Choisissez la zone que couvrira (continent/pays/région)**\n",
    "\n",
    "Vous devez le faire suivant la manière de https://download.geofabrik.de/ tel que écrit dans l'url, par exemple:\n"
   ]
  },
  {
   "continent:europe,"\n",
pays:france,"\n",
region:corse"
   ]
  },
  {
   "attachments": {},
   "cell_type": "markdown",
   "metadata": {},
   "source": [
    "*Vous pouvez générer une carte d'un pays entier en utilisant la valeur region:all* de plus la version 2.0 permet de générer les pays de l'ensemble d'un continent. Pour cela il faut d'entrer country=all à condition que un fichier texte porte le nom du continent existe dans le dossier geofabrik et qu'il contienne la liste des pays souhaités."
   ]
  },
  {
   continent:europe,"\n",
pays:france,"\n",
region:all
   ]
  },
  {
   "cell_type": "markdown",
   "metadata": {},
   "source": [
    "**Laissez tourner !**\n",
    "\n",
    "Vous aurez besoin à ce moment de rentrer votre identifiant et mot de passe pour le site https://urs.earthdata.nasa.gov/home\n",
    "\n",
    "**Retrouvez votre carte dans le repertoire *carte_pays_region/carte_***\n",
    "\n",
    "Le second sous repertoire est un fichier contenant des courbes de niveaux utilisées pour créer votre carte. Elle ne sont pas supprimées car elles peuvent être réutilisées avec la méthode **update** ce qui améliore considérablement le temps de calcul.\n",
    "\n",
    "! Pour utiliser la méthode update le repertoire de fin de calcul doit être replacé à la racine comme lorsqu'il est produit."
   ]
  },
  {
   "cell_type": "code",
   "execution_count": null,
   "metadata": {},
   "outputs": [],
   "source": []
  }
 ],
 "metadata": {
  "kernelspec": {
   "display_name": "Python 3",
   "language": "python",
   "name": "python3"
  },
  "language_info": {
   "codemirror_mode": {
    "name": "ipython",
    "version": 3
   },
   "file_extension": ".py",
   "mimetype": "text/x-python",
   "name": "python",
   "nbconvert_exporter": "python",
   "pygments_lexer": "ipython3",
   "version": "3.7.6"
  }
 },
 "nbformat": 4,
 "nbformat_minor": 4
}
